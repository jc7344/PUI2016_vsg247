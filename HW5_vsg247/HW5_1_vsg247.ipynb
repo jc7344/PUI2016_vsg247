{
 "cells": [
  {
   "cell_type": "code",
   "execution_count": 42,
   "metadata": {
    "collapsed": false
   },
   "outputs": [
    {
     "name": "stdout",
     "output_type": "stream",
     "text": [
      "Populating the interactive namespace from numpy and matplotlib\n"
     ]
    }
   ],
   "source": [
    "import numpy as np\n",
    "import pandas as pd\n",
    "import pylab as pl\n",
    "import statsmodels.api as sm\n",
    "import os\n",
    "import scipy.stats as stats\n",
    "import scipy.optimize as optimize\n",
    "\n",
    "%pylab inline"
   ]
  },
  {
   "cell_type": "code",
   "execution_count": 25,
   "metadata": {
    "collapsed": true
   },
   "outputs": [],
   "source": [
    "### A function to download the data in case it's not there yet. \n",
    "\n",
    "def getCitiBikeCSV(datestring):\n",
    "    '''\n",
    "    Function that looks for a csv file with citibike data corresponding to the datestring in the PUIdata directory.\n",
    "    If csv file is not there, looks for the corresponding zip file. If the zip file is there unzip it.\n",
    "    If the zip file is not there either, the function downloads it from the citibike website and then unzip it. \n",
    "    '''\n",
    "    \n",
    "    print('Looking for the citibike data for the month ' + datestring + \"...\")\n",
    "    \n",
    "    ### First check if the csv file is not already at the directory\n",
    "    if os.path.isfile(os.getenv(\"PUIDATA\") + \"/\" + datestring + \"-citibike-tripdata.csv\"):\n",
    "        print (\"CSV File was already at the PUIdata directory.\")\n",
    "        \n",
    "    # If the CSV is not there, now check if the ZIP File is already there.\n",
    "    # If the ZIP File is there, unzip it and move the unzipped CSV to the PUIdata directory\n",
    "    elif os.path.isfile(os.getenv(\"PUIDATA\") + \"/\" + datestring + \"-citibike-tripdata.zip\"):\n",
    "            print('ZIP File was already at the PUIdata directory.')\n",
    "            \n",
    "            # unzip the csv \n",
    "            os.system(\"unzip \" + os.getenv(\"PUIDATA\") + \"/\" + datestring + \"-citibike-tripdata.zip\")\n",
    "            print('CSV File unzipped.')\n",
    "            \n",
    "            # Move the CSV to the PUIdata directory\n",
    "            os.system(\"mv \" + datestring + \"-citibike-tripdata.csv \" + os.getenv(\"PUIDATA\"))\n",
    "    \n",
    "    else :\n",
    "        # Download the Zip File; move it to the PUIdata directory; unzip it; move the csv to the PUIdata directory.\n",
    "        print (\"Downloading\", datestring)\n",
    "        \n",
    "        # Downloading the ZIP File\n",
    "        os.system(\"curl -O https://s3.amazonaws.com/tripdata/\" + datestring + \"-citibike-tripdata.zip\")\n",
    "        print (\"ZIP File downloaded.\")\n",
    "        \n",
    "        # Moving it to the PUIdata directory\n",
    "        os.system(\"mv \" + datestring + \"-citibike-tripdata.zip \" + os.getenv(\"PUIDATA\"))\n",
    "        \n",
    "        # unzip the csv \n",
    "        os.system(\"unzip \" + os.getenv(\"PUIDATA\") + \"/\" + datestring + \"-citibike-tripdata.zip\")\n",
    "        \n",
    "        # and move it to the PUIdata directory\n",
    "        os.system(\"mv \" + datestring + \"-citibike-tripdata.csv \" + os.getenv(\"PUIDATA\"))\n",
    "           \n",
    "    ### One final check:\n",
    "    if not os.path.isfile(os.getenv(\"PUIDATA\") + \"/\" + datestring + \"-citibike-tripdata.csv\"):\n",
    "        print (\"WARNING!!! something is wrong: the file is not there!\")\n",
    "\n",
    "    else:\n",
    "        print (\"CSV File in place, you can continue.\\n\")"
   ]
  },
  {
   "cell_type": "code",
   "execution_count": 26,
   "metadata": {
    "collapsed": false
   },
   "outputs": [
    {
     "name": "stdout",
     "output_type": "stream",
     "text": [
      "Looking for the citibike data for the month 201508...\n",
      "CSV File was already at the PUIdata directory.\n",
      "CSV File in place, you can continue.\n",
      "\n"
     ]
    }
   ],
   "source": [
    "datestring = '201508'\n",
    "getCitiBikeCSV(datestring)"
   ]
  },
  {
   "cell_type": "code",
   "execution_count": 27,
   "metadata": {
    "collapsed": false,
    "scrolled": true
   },
   "outputs": [
    {
     "data": {
      "text/html": [
       "<div>\n",
       "<table border=\"1\" class=\"dataframe\">\n",
       "  <thead>\n",
       "    <tr style=\"text-align: right;\">\n",
       "      <th></th>\n",
       "      <th>tripduration</th>\n",
       "      <th>starttime</th>\n",
       "      <th>stoptime</th>\n",
       "      <th>start station id</th>\n",
       "      <th>start station name</th>\n",
       "      <th>start station latitude</th>\n",
       "      <th>start station longitude</th>\n",
       "      <th>end station id</th>\n",
       "      <th>end station name</th>\n",
       "      <th>end station latitude</th>\n",
       "      <th>end station longitude</th>\n",
       "      <th>bikeid</th>\n",
       "      <th>usertype</th>\n",
       "      <th>birth year</th>\n",
       "      <th>gender</th>\n",
       "    </tr>\n",
       "  </thead>\n",
       "  <tbody>\n",
       "    <tr>\n",
       "      <th>0</th>\n",
       "      <td>1202</td>\n",
       "      <td>8/1/2015 00:00:04</td>\n",
       "      <td>8/1/2015 00:20:07</td>\n",
       "      <td>168</td>\n",
       "      <td>W 18 St &amp; 6 Ave</td>\n",
       "      <td>40.739713</td>\n",
       "      <td>-73.994564</td>\n",
       "      <td>385</td>\n",
       "      <td>E 55 St &amp; 2 Ave</td>\n",
       "      <td>40.757973</td>\n",
       "      <td>-73.966033</td>\n",
       "      <td>23253</td>\n",
       "      <td>Subscriber</td>\n",
       "      <td>1987.0</td>\n",
       "      <td>1</td>\n",
       "    </tr>\n",
       "    <tr>\n",
       "      <th>1</th>\n",
       "      <td>301</td>\n",
       "      <td>8/1/2015 00:00:05</td>\n",
       "      <td>8/1/2015 00:05:06</td>\n",
       "      <td>450</td>\n",
       "      <td>W 49 St &amp; 8 Ave</td>\n",
       "      <td>40.762272</td>\n",
       "      <td>-73.987882</td>\n",
       "      <td>479</td>\n",
       "      <td>9 Ave &amp; W 45 St</td>\n",
       "      <td>40.760193</td>\n",
       "      <td>-73.991255</td>\n",
       "      <td>22675</td>\n",
       "      <td>Subscriber</td>\n",
       "      <td>1951.0</td>\n",
       "      <td>2</td>\n",
       "    </tr>\n",
       "    <tr>\n",
       "      <th>2</th>\n",
       "      <td>431</td>\n",
       "      <td>8/1/2015 00:00:06</td>\n",
       "      <td>8/1/2015 00:07:18</td>\n",
       "      <td>312</td>\n",
       "      <td>Allen St &amp; E Houston St</td>\n",
       "      <td>40.722055</td>\n",
       "      <td>-73.989111</td>\n",
       "      <td>296</td>\n",
       "      <td>Division St &amp; Bowery</td>\n",
       "      <td>40.714131</td>\n",
       "      <td>-73.997047</td>\n",
       "      <td>19831</td>\n",
       "      <td>Subscriber</td>\n",
       "      <td>1985.0</td>\n",
       "      <td>1</td>\n",
       "    </tr>\n",
       "    <tr>\n",
       "      <th>3</th>\n",
       "      <td>273</td>\n",
       "      <td>8/1/2015 00:00:09</td>\n",
       "      <td>8/1/2015 00:04:43</td>\n",
       "      <td>382</td>\n",
       "      <td>University Pl &amp; E 14 St</td>\n",
       "      <td>40.734927</td>\n",
       "      <td>-73.992005</td>\n",
       "      <td>229</td>\n",
       "      <td>Great Jones St</td>\n",
       "      <td>40.727434</td>\n",
       "      <td>-73.993790</td>\n",
       "      <td>22765</td>\n",
       "      <td>Subscriber</td>\n",
       "      <td>1975.0</td>\n",
       "      <td>1</td>\n",
       "    </tr>\n",
       "    <tr>\n",
       "      <th>4</th>\n",
       "      <td>1256</td>\n",
       "      <td>8/1/2015 00:00:17</td>\n",
       "      <td>8/1/2015 00:21:13</td>\n",
       "      <td>352</td>\n",
       "      <td>W 56 St &amp; 6 Ave</td>\n",
       "      <td>40.763406</td>\n",
       "      <td>-73.977225</td>\n",
       "      <td>432</td>\n",
       "      <td>E 7 St &amp; Avenue A</td>\n",
       "      <td>40.726218</td>\n",
       "      <td>-73.983799</td>\n",
       "      <td>22127</td>\n",
       "      <td>Subscriber</td>\n",
       "      <td>1978.0</td>\n",
       "      <td>1</td>\n",
       "    </tr>\n",
       "  </tbody>\n",
       "</table>\n",
       "</div>"
      ],
      "text/plain": [
       "   tripduration          starttime           stoptime  start station id  \\\n",
       "0          1202  8/1/2015 00:00:04  8/1/2015 00:20:07               168   \n",
       "1           301  8/1/2015 00:00:05  8/1/2015 00:05:06               450   \n",
       "2           431  8/1/2015 00:00:06  8/1/2015 00:07:18               312   \n",
       "3           273  8/1/2015 00:00:09  8/1/2015 00:04:43               382   \n",
       "4          1256  8/1/2015 00:00:17  8/1/2015 00:21:13               352   \n",
       "\n",
       "        start station name  start station latitude  start station longitude  \\\n",
       "0          W 18 St & 6 Ave               40.739713               -73.994564   \n",
       "1          W 49 St & 8 Ave               40.762272               -73.987882   \n",
       "2  Allen St & E Houston St               40.722055               -73.989111   \n",
       "3  University Pl & E 14 St               40.734927               -73.992005   \n",
       "4          W 56 St & 6 Ave               40.763406               -73.977225   \n",
       "\n",
       "   end station id      end station name  end station latitude  \\\n",
       "0             385       E 55 St & 2 Ave             40.757973   \n",
       "1             479       9 Ave & W 45 St             40.760193   \n",
       "2             296  Division St & Bowery             40.714131   \n",
       "3             229        Great Jones St             40.727434   \n",
       "4             432     E 7 St & Avenue A             40.726218   \n",
       "\n",
       "   end station longitude  bikeid    usertype  birth year  gender  \n",
       "0             -73.966033   23253  Subscriber      1987.0       1  \n",
       "1             -73.991255   22675  Subscriber      1951.0       2  \n",
       "2             -73.997047   19831  Subscriber      1985.0       1  \n",
       "3             -73.993790   22765  Subscriber      1975.0       1  \n",
       "4             -73.983799   22127  Subscriber      1978.0       1  "
      ]
     },
     "execution_count": 27,
     "metadata": {},
     "output_type": "execute_result"
    }
   ],
   "source": [
    "df = pd.read_csv(os.getenv(\"PUIDATA\") + \"/\" + datestring + '-citibike-tripdata.csv')\n",
    "df.head()"
   ]
  },
  {
   "cell_type": "code",
   "execution_count": 28,
   "metadata": {
    "collapsed": false,
    "scrolled": true
   },
   "outputs": [
    {
     "data": {
      "text/plain": [
       "Index([u'tripduration', u'starttime', u'stoptime', u'start station id',\n",
       "       u'start station name', u'start station latitude',\n",
       "       u'start station longitude', u'end station id', u'end station name',\n",
       "       u'end station latitude', u'end station longitude', u'bikeid',\n",
       "       u'usertype', u'birth year', u'gender'],\n",
       "      dtype='object')"
      ]
     },
     "execution_count": 28,
     "metadata": {},
     "output_type": "execute_result"
    }
   ],
   "source": [
    "df.columns"
   ]
  },
  {
   "cell_type": "code",
   "execution_count": 29,
   "metadata": {
    "collapsed": true
   },
   "outputs": [],
   "source": [
    "#df is the dataframe where the content of the csv file is stored\n",
    "df['age'] = 2015 - df['birth year'][(df['usertype'] == 'Subscriber')]\n"
   ]
  },
  {
   "cell_type": "code",
   "execution_count": 30,
   "metadata": {
    "collapsed": false
   },
   "outputs": [
    {
     "data": {
      "text/html": [
       "<div>\n",
       "<table border=\"1\" class=\"dataframe\">\n",
       "  <thead>\n",
       "    <tr style=\"text-align: right;\">\n",
       "      <th></th>\n",
       "      <th>usertype</th>\n",
       "      <th>birth year</th>\n",
       "      <th>gender</th>\n",
       "      <th>age</th>\n",
       "    </tr>\n",
       "  </thead>\n",
       "  <tbody>\n",
       "    <tr>\n",
       "      <th>0</th>\n",
       "      <td>Subscriber</td>\n",
       "      <td>1987.0</td>\n",
       "      <td>1</td>\n",
       "      <td>28.0</td>\n",
       "    </tr>\n",
       "    <tr>\n",
       "      <th>1</th>\n",
       "      <td>Subscriber</td>\n",
       "      <td>1951.0</td>\n",
       "      <td>2</td>\n",
       "      <td>64.0</td>\n",
       "    </tr>\n",
       "    <tr>\n",
       "      <th>2</th>\n",
       "      <td>Subscriber</td>\n",
       "      <td>1985.0</td>\n",
       "      <td>1</td>\n",
       "      <td>30.0</td>\n",
       "    </tr>\n",
       "    <tr>\n",
       "      <th>3</th>\n",
       "      <td>Subscriber</td>\n",
       "      <td>1975.0</td>\n",
       "      <td>1</td>\n",
       "      <td>40.0</td>\n",
       "    </tr>\n",
       "    <tr>\n",
       "      <th>4</th>\n",
       "      <td>Subscriber</td>\n",
       "      <td>1978.0</td>\n",
       "      <td>1</td>\n",
       "      <td>37.0</td>\n",
       "    </tr>\n",
       "  </tbody>\n",
       "</table>\n",
       "</div>"
      ],
      "text/plain": [
       "     usertype  birth year  gender   age\n",
       "0  Subscriber      1987.0       1  28.0\n",
       "1  Subscriber      1951.0       2  64.0\n",
       "2  Subscriber      1985.0       1  30.0\n",
       "3  Subscriber      1975.0       1  40.0\n",
       "4  Subscriber      1978.0       1  37.0"
      ]
     },
     "execution_count": 30,
     "metadata": {},
     "output_type": "execute_result"
    }
   ],
   "source": [
    "#dropping some data I no longer need\n",
    "df.drop([u'tripduration', u'start station id',\n",
    "       u'start station name', u'start station latitude',\n",
    "       u'start station longitude', u'end station id', u'end station name',\n",
    "       u'end station latitude', u'end station longitude',\n",
    "         u'starttime', u'stoptime', u'bikeid'], axis=1, inplace=True)\n",
    "df.head()"
   ]
  },
  {
   "cell_type": "code",
   "execution_count": 31,
   "metadata": {
    "collapsed": false
   },
   "outputs": [
    {
     "data": {
      "text/html": [
       "<div>\n",
       "<table border=\"1\" class=\"dataframe\">\n",
       "  <thead>\n",
       "    <tr style=\"text-align: right;\">\n",
       "      <th></th>\n",
       "      <th>birth year</th>\n",
       "      <th>gender</th>\n",
       "      <th>age</th>\n",
       "    </tr>\n",
       "  </thead>\n",
       "  <tbody>\n",
       "    <tr>\n",
       "      <th>count</th>\n",
       "      <td>958043.000000</td>\n",
       "      <td>958043.000000</td>\n",
       "      <td>958043.000000</td>\n",
       "    </tr>\n",
       "    <tr>\n",
       "      <th>mean</th>\n",
       "      <td>1977.144026</td>\n",
       "      <td>1.244938</td>\n",
       "      <td>37.855974</td>\n",
       "    </tr>\n",
       "    <tr>\n",
       "      <th>std</th>\n",
       "      <td>11.337429</td>\n",
       "      <td>0.433267</td>\n",
       "      <td>11.337429</td>\n",
       "    </tr>\n",
       "    <tr>\n",
       "      <th>min</th>\n",
       "      <td>1885.000000</td>\n",
       "      <td>0.000000</td>\n",
       "      <td>16.000000</td>\n",
       "    </tr>\n",
       "    <tr>\n",
       "      <th>25%</th>\n",
       "      <td>1970.000000</td>\n",
       "      <td>1.000000</td>\n",
       "      <td>29.000000</td>\n",
       "    </tr>\n",
       "    <tr>\n",
       "      <th>50%</th>\n",
       "      <td>1980.000000</td>\n",
       "      <td>1.000000</td>\n",
       "      <td>35.000000</td>\n",
       "    </tr>\n",
       "    <tr>\n",
       "      <th>75%</th>\n",
       "      <td>1986.000000</td>\n",
       "      <td>1.000000</td>\n",
       "      <td>45.000000</td>\n",
       "    </tr>\n",
       "    <tr>\n",
       "      <th>max</th>\n",
       "      <td>1999.000000</td>\n",
       "      <td>2.000000</td>\n",
       "      <td>130.000000</td>\n",
       "    </tr>\n",
       "  </tbody>\n",
       "</table>\n",
       "</div>"
      ],
      "text/plain": [
       "          birth year         gender            age\n",
       "count  958043.000000  958043.000000  958043.000000\n",
       "mean     1977.144026       1.244938      37.855974\n",
       "std        11.337429       0.433267      11.337429\n",
       "min      1885.000000       0.000000      16.000000\n",
       "25%      1970.000000       1.000000      29.000000\n",
       "50%      1980.000000       1.000000      35.000000\n",
       "75%      1986.000000       1.000000      45.000000\n",
       "max      1999.000000       2.000000     130.000000"
      ]
     },
     "execution_count": 31,
     "metadata": {},
     "output_type": "execute_result"
    }
   ],
   "source": [
    "df.dropna(inplace = True)\n",
    "df.describe()"
   ]
  },
  {
   "cell_type": "code",
   "execution_count": 32,
   "metadata": {
    "collapsed": false,
    "scrolled": false
   },
   "outputs": [
    {
     "data": {
      "text/html": [
       "<div>\n",
       "<table border=\"1\" class=\"dataframe\">\n",
       "  <thead>\n",
       "    <tr style=\"text-align: right;\">\n",
       "      <th></th>\n",
       "      <th>usertype</th>\n",
       "      <th>birth year</th>\n",
       "      <th>gender</th>\n",
       "    </tr>\n",
       "    <tr>\n",
       "      <th>age</th>\n",
       "      <th></th>\n",
       "      <th></th>\n",
       "      <th></th>\n",
       "    </tr>\n",
       "  </thead>\n",
       "  <tbody>\n",
       "    <tr>\n",
       "      <th>16.0</th>\n",
       "      <td>281</td>\n",
       "      <td>281</td>\n",
       "      <td>281</td>\n",
       "    </tr>\n",
       "    <tr>\n",
       "      <th>17.0</th>\n",
       "      <td>1334</td>\n",
       "      <td>1334</td>\n",
       "      <td>1334</td>\n",
       "    </tr>\n",
       "    <tr>\n",
       "      <th>18.0</th>\n",
       "      <td>1492</td>\n",
       "      <td>1492</td>\n",
       "      <td>1492</td>\n",
       "    </tr>\n",
       "    <tr>\n",
       "      <th>19.0</th>\n",
       "      <td>2153</td>\n",
       "      <td>2153</td>\n",
       "      <td>2153</td>\n",
       "    </tr>\n",
       "    <tr>\n",
       "      <th>20.0</th>\n",
       "      <td>3353</td>\n",
       "      <td>3353</td>\n",
       "      <td>3353</td>\n",
       "    </tr>\n",
       "  </tbody>\n",
       "</table>\n",
       "</div>"
      ],
      "text/plain": [
       "      usertype  birth year  gender\n",
       "age                               \n",
       "16.0       281         281     281\n",
       "17.0      1334        1334    1334\n",
       "18.0      1492        1492    1492\n",
       "19.0      2153        2153    2153\n",
       "20.0      3353        3353    3353"
      ]
     },
     "execution_count": 32,
     "metadata": {},
     "output_type": "execute_result"
    }
   ],
   "source": [
    "# cleaning outliers: age > 95. \n",
    "df = df[df['age'] <= 95]\n",
    "\n",
    "# grouping by age\n",
    "df.groupby('age').count().head()\n"
   ]
  },
  {
   "cell_type": "code",
   "execution_count": 33,
   "metadata": {
    "collapsed": false
   },
   "outputs": [
    {
     "data": {
      "text/plain": [
       "[<matplotlib.lines.Line2D at 0x7fc826fd3ad0>]"
      ]
     },
     "execution_count": 33,
     "metadata": {},
     "output_type": "execute_result"
    },
    {
     "data": {
      "image/png": "[encoded data removed]",
      "text/plain": [
       "<matplotlib.figure.Figure at 0x7fc835c47b90>"
      ]
     },
     "metadata": {},
     "output_type": "display_data"
    }
   ],
   "source": [
    "# plotting the distribution and the gaussian fit. \n",
    "\n",
    "start = 15 # non-inclusiv\n",
    "end = 95 # inclusiv\n",
    "step = 1\n",
    "\n",
    "bins = np.arange(start, end, step)\n",
    "AGEdist = np.array(df.age.groupby(pd.cut(df.age, bins)).agg([count_nonzero]))\n",
    "\n",
    "pl.figure(figsize=(10, 5))\n",
    "pl.bar(np.arange(start, end-step, step), AGEdist)\n",
    "\n",
    "# fitting a normal distribution\n",
    "# adapted from http://stackoverflow.com/questions/17779316/un-normalized-gaussian-curve-on-histogram\n",
    "def f(x, a, b, c):\n",
    "    return a * np.exp(-(x - b)**2.0 / (2 * c**2))\n",
    "\n",
    "x = np.arange(start, end - step, step)\n",
    "y = AGEdist[:,0]\n",
    "\n",
    "popt, pcov = optimize.curve_fit(f, x, y, p0=(50000, np.mean(df.age), np.std(df.age))) # p0 = initial guess\n",
    "\n",
    "y_fit = f(x, *popt) \n",
    "\n",
    "# plotting the corresponding normal distribution\n",
    "pl.plot(x, y_fit, 'r--', linewidth=2)\n"
   ]
  },
  {
   "cell_type": "markdown",
   "metadata": {},
   "source": [
    "## KS test for a Normal Distribution\n",
    "\n",
    "Measures the maximum difference in the Cumulative Distribution Function, optimizing the bins for that analysis. This test is especially sensitive to differences in the mean/median region. \n",
    "\n",
    "$H_0:$ the sample does come from a normal distribution.\n",
    "\n",
    "$H_a:$ the sample does not come from a normal distribution.\n",
    "\n",
    "$\\alpha = 0.05$"
   ]
  },
  {
   "cell_type": "code",
   "execution_count": 34,
   "metadata": {
    "collapsed": false
   },
   "outputs": [
    {
     "name": "stdout",
     "output_type": "stream",
     "text": [
      "KstestResult(statistic=0.1130707407354577, pvalue=0.0)\n"
     ]
    }
   ],
   "source": [
    "# KS test for Normal\n",
    "ks_n = stats.kstest(df.age, 'norm', args=(df.age.mean(), df.age.std()))\n",
    "print ks_n\n"
   ]
  },
  {
   "cell_type": "markdown",
   "metadata": {},
   "source": [
    "Since the p-value is much lower than $\\alpha$, the Null hypothesis can be rejected. It is noteworthy, though, that because the number of observations is so large, any minimal deviation from the normal distribution (especially in the mean region) would be considered significant by this test (since having so many observations make us know our distribution so well). "
   ]
  },
  {
   "cell_type": "markdown",
   "metadata": {},
   "source": [
    "## AD Test for a Normal distribution\n",
    "\n",
    "Similar to the KS test, in the sense that it accounts for the differences in the Cumulative Distribution Function, but adapted to give more similar weights to center and tails of the distribution. Therefore, this is a better test when we want to analyze the shape of a given distribution and are not so concerned about the exact value of the mean/median.\n",
    "\n",
    "$H_0:$ the sample does come from a normal distribution.\n",
    "\n",
    "$H_a:$ the sample does not come from a normal distribution.\n",
    "\n",
    "$\\alpha = 0.05$"
   ]
  },
  {
   "cell_type": "code",
   "execution_count": 35,
   "metadata": {
    "collapsed": false
   },
   "outputs": [
    {
     "name": "stdout",
     "output_type": "stream",
     "text": [
      "AndersonResult(statistic=16665.695014858968, critical_values=array([ 0.576,  0.656,  0.787,  0.918,  1.092]), significance_level=array([ 15. ,  10. ,   5. ,   2.5,   1. ]))\n"
     ]
    }
   ],
   "source": [
    "# AD Test for Normal\n",
    "\n",
    "ad_n = stats.anderson(df.age, dist = 'norm')\n",
    "\n",
    "print ad_n"
   ]
  },
  {
   "cell_type": "markdown",
   "metadata": {},
   "source": [
    "Since AD-statistic (16665.7) is much higher than the corresponding value of $\\alpha$ (0.787), we can reject the Null Hypothesis. Similarly to the KS test result, the large number of observations makes so that we know very well our distribution. Therefore, any minimal deviation from the normal distribution would be be statistically significant.  "
   ]
  },
  {
   "cell_type": "markdown",
   "metadata": {},
   "source": [
    "## KL Test for a Normal distribution\n",
    "\n",
    "This test measures KL divergence, which is a representation of how much information is lost when we model a given sample (distribution) using another given sample (distribution). \n",
    "It is important to notice that since the test doesn't assume any given analytical distribution (or paramenters), it doesn't return any p-values or statistics. Therefore the test is much more useful to compare the goodness of fit in relative terms, i. e. to compare the goodness of fit of two different distribution (e. g. Normal and Lognormal). Besides that, it is not applicable to formulate a null and alternative hypotheses for this test, but it is still a measure of the goodness of fit. Although more useful only in relative and not in absolute terms. "
   ]
  },
  {
   "cell_type": "code",
   "execution_count": 36,
   "metadata": {
    "collapsed": false
   },
   "outputs": [
    {
     "name": "stdout",
     "output_type": "stream",
     "text": [
      "0.647103452953\n"
     ]
    }
   ],
   "source": [
    "# KL\n",
    "# for KL we have to simulate and normalize the normal distribution from the histogram\n",
    "distpdf_n, mybins_n, = np.histogram(df.age, bins = np.arange(start, end, step), density=True)\n",
    "bincenters_n = mybins_n[:-1] + 0.5*(mybins_n[1] - mybins_n[0])\n",
    "\n",
    "kl_n =  stats.entropy(distpdf_n, stats.norm.pdf(bincenters_n) + df.age.mean())\n",
    "\n",
    "print kl_n"
   ]
  },
  {
   "cell_type": "markdown",
   "metadata": {},
   "source": [
    "As mentioned above, the result is just an indication of the loss of information when using a normal distribution to fit the data and thus, the goodness of fit. A more meaningful analysis can be done when comparing the KL result for the normal distribution with the result for another distribution. "
   ]
  },
  {
   "cell_type": "markdown",
   "metadata": {},
   "source": [
    "## KS Test for a Lognormal distribution\n",
    "\n",
    "$H_0:$ the sample does come from a lognormal distribution.\n",
    "\n",
    "$H_a:$ the sample does not come from a lognormal distribution.\n",
    "\n",
    "$\\alpha = 0.05$"
   ]
  },
  {
   "cell_type": "code",
   "execution_count": 37,
   "metadata": {
    "collapsed": false
   },
   "outputs": [
    {
     "name": "stdout",
     "output_type": "stream",
     "text": [
      "KstestResult(statistic=0.51846921847048077, pvalue=0.0)\n"
     ]
    }
   ],
   "source": [
    "#KS test for Lognormal\n",
    "\n",
    "ks_logn = stats.kstest(df.age, 'lognorm', args=(df.age.mean(), df.age.std()))\n",
    "print ks_logn\n",
    "\n"
   ]
  },
  {
   "cell_type": "markdown",
   "metadata": {},
   "source": [
    "Since the p-value is much lower than $\\alpha$, the Null hypothesis can be rejected. It is noteworthy, though, that because the number of observations is so large, any minimal deviation from the lognormal distribution (especially in the center) would be considered significant by this test (since having so many observations make us know our distribution so well). "
   ]
  },
  {
   "cell_type": "markdown",
   "metadata": {},
   "source": [
    "## KL Test for a Lognormal distribution\n"
   ]
  },
  {
   "cell_type": "code",
   "execution_count": 38,
   "metadata": {
    "collapsed": false
   },
   "outputs": [
    {
     "name": "stdout",
     "output_type": "stream",
     "text": [
      "0.619351910829\n"
     ]
    }
   ],
   "source": [
    "# KL Test for Lognormal\n",
    "distpdf_n, mybins_n, = np.histogram(df.age, bins = np.arange(start, end, step), density=True)\n",
    "bincenters_n = mybins_n[:-1] + 0.5*(mybins_n[1] - mybins_n[0])\n",
    "\n",
    "print stats.entropy(distpdf_n, stats.lognorm.pdf(bincenters_n, df.age.mean(), df.age.std()))"
   ]
  },
  {
   "cell_type": "markdown",
   "metadata": {},
   "source": [
    "The KL result is an indication of the information loss when fitting our data with a lognormal distribution. Through this test, we can compare which type of distribution better fit our data, the Normal or the Lognormal: Since the KL value is lower for the Lognormal distribution than for the Normal distribution, we can conclude that the Lognormal distribution is a better representation of our data than the Normal distribution.  "
   ]
  },
  {
   "cell_type": "markdown",
   "metadata": {},
   "source": [
    "## KS Test for a Gumbel - L distribution\n",
    "\n",
    "$H_0:$ the sample does come from a Gumbel-L distribution.\n",
    "\n",
    "$H_a:$ the sample does not come from a Gumbel-L distribution.\n",
    "\n",
    "$\\alpha = 0.05$"
   ]
  },
  {
   "cell_type": "code",
   "execution_count": 43,
   "metadata": {
    "collapsed": false
   },
   "outputs": [
    {
     "name": "stdout",
     "output_type": "stream",
     "text": [
      "KstestResult(statistic=0.2097219021581242, pvalue=0.0)\n"
     ]
    }
   ],
   "source": [
    "#KS test for Gumbel-L\n",
    "\n",
    "ks_gumb = stats.kstest(df.age, 'gumbel_l', args=(df.age.mean(), df.age.std()))\n",
    "print ks_gumb\n"
   ]
  },
  {
   "cell_type": "markdown",
   "metadata": {},
   "source": [
    "Since the p-value is much lower than $\\alpha$, the Null hypothesis can be rejected. It is noteworthy, though, that because the number of observations is so large, any minimal deviation from the gumbel-L distribution (especially in the center) would be considered significant by this test (since having so many observations make us know our distribution so well). "
   ]
  },
  {
   "cell_type": "markdown",
   "metadata": {},
   "source": [
    "## KL Test for a Gumbel-L distribution\n"
   ]
  },
  {
   "cell_type": "code",
   "execution_count": 40,
   "metadata": {
    "collapsed": false
   },
   "outputs": [
    {
     "name": "stdout",
     "output_type": "stream",
     "text": [
      "0.410052615138\n"
     ]
    }
   ],
   "source": [
    "# KL Test for Gumbel-L\n",
    "\n",
    "distpdf_n, mybins_n, = np.histogram(df.age, bins = np.arange(start, end, step), density=True)\n",
    "bincenters_n = mybins_n[:-1] + 0.5*(mybins_n[1] - mybins_n[0])\n",
    "\n",
    "print stats.entropy(distpdf_n, stats.gumbel_l.pdf(bincenters_n, df.age.mean(), df.age.std()))"
   ]
  },
  {
   "cell_type": "markdown",
   "metadata": {},
   "source": [
    "The KL result is an indication of the information loss when fitting our data with a Gumbel-L distribution. Through this test, we can compare which type of distribution better fit our data, the Normal or the Lognormal or the Gumbel-L: Since the KL value for the Gumbel-L distribution is lower than for the Normal and the Lognormal distribution, we can conclude that the Gumbel-L distribution is a better representation of our data than the Lognormal and the Normal distribution.  "
   ]
  }
 ],
 "metadata": {
  "kernelspec": {
   "display_name": "PUI2016_Python2",
   "language": "python",
   "name": "pui2016_python2"
  },
  "language_info": {
   "codemirror_mode": {
    "name": "ipython",
    "version": 2
   },
   "file_extension": ".py",
   "mimetype": "text/x-python",
   "name": "python",
   "nbconvert_exporter": "python",
   "pygments_lexer": "ipython2",
   "version": "2.7.12"
  }
 },
 "nbformat": 4,
 "nbformat_minor": 0
}
