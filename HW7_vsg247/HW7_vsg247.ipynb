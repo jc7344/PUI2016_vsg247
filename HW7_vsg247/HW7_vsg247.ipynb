{
 "cells": [
  {
   "cell_type": "markdown",
   "metadata": {},
   "source": [
    "# Plot about Greenhouse Gas Emissions and its relations to Income per Capita and GDP\n",
    "\n",
    "\n",
    "### vsg247\n",
    "\n",
    "Data from year 2010, available at the World Bank website. "
   ]
  },
  {
   "cell_type": "code",
   "execution_count": 39,
   "metadata": {
    "collapsed": false
   },
   "outputs": [
    {
     "name": "stdout",
     "output_type": "stream",
     "text": [
      "Populating the interactive namespace from numpy and matplotlib\n"
     ]
    }
   ],
   "source": [
    "import os\n",
    "import pandas as pd\n",
    "import numpy as np\n",
    "import pylab as pl\n",
    "\n",
    "%pylab inline\n"
   ]
  },
  {
   "cell_type": "code",
   "execution_count": 2,
   "metadata": {
    "collapsed": true
   },
   "outputs": [],
   "source": [
    "### A function to download the data in case it's not there yet. \n",
    "\n",
    "def get_PUI_csv(url, filename, zipname):\n",
    "    '''\n",
    "    Function that gets a csv file from an url, saves it in the PUIdata directory.\n",
    "    If the file is already there, the function prints a message saying that.\n",
    "    If the file is zipped, unzips it.\n",
    "    '''\n",
    "    \n",
    "    print('Getting ' + filename + ' from ' + url)\n",
    "    \n",
    "    ### First check if the csv file is not already at the directory\n",
    "    if os.path.isfile(os.getenv(\"PUIDATA\") + \"/\" + filename):\n",
    "        print (\"File was already at the PUIdata directory.\")\n",
    "        \n",
    "    elif os.path.isfile(os.getenv(\"PUIDATA\") + \"/\" + zipname):\n",
    "        print('ZIP File was already at the PUIdata directory.')\n",
    "        \n",
    "        # unzip the folder andsave it to the PUIdata  directory\n",
    "        os.system(\"unzip \" + os.getenv(\"PUIDATA\") + \"/\" + zipname)\n",
    "        print(zipname + ' unzipped.')\n",
    "         \n",
    "    else :\n",
    "        # Download the File; move it to the PUIdata directory.\n",
    "        print (\"Downloading.\")\n",
    "        \n",
    "        # Downloading the File\n",
    "        os.system(\"curl -O \" + url)\n",
    "        print (\"ZIP File downloaded.\")\n",
    "        \n",
    "        # Moving it to the PUIdata directory\n",
    "        os.system(\"mv \" + zipname + \" \" + os.getenv(\"PUIDATA\"))\n",
    "        \n",
    "        # unzip the file\n",
    "        os.system(\"unzip \" + os.getenv(\"PUIDATA\") + \"/\" + zipname + \" -d\" + os.getenv(\"PUIDATA\") + \"/\")\n",
    "        \n",
    "                  \n",
    "    ### One final check:\n",
    "    if not os.path.isfile(os.getenv(\"PUIDATA\") + \"/\" + filename):\n",
    "        print (\"WARNING!!! something is wrong: the file is not there!\")\n",
    "\n",
    "    else:\n",
    "        print (\"File in place, you can continue.\")"
   ]
  },
  {
   "cell_type": "code",
   "execution_count": 3,
   "metadata": {
    "collapsed": false
   },
   "outputs": [
    {
     "name": "stdout",
     "output_type": "stream",
     "text": [
      "Getting WDI_Data.csv from databank.worldbank.org/data/download/WDI_csv.zip\n",
      "File was already at the PUIdata directory.\n",
      "File in place, you can continue.\n"
     ]
    }
   ],
   "source": [
    "# getting the data from the World Bank\n",
    "\n",
    "url = 'databank.worldbank.org/data/download/WDI_csv.zip'\n",
    "filename = 'WDI_Data.csv'\n",
    "zipname = 'WDI_csv.zip'\n",
    "\n",
    "get_PUI_csv(url, filename, zipname)\n"
   ]
  },
  {
   "cell_type": "code",
   "execution_count": 4,
   "metadata": {
    "collapsed": false
   },
   "outputs": [
    {
     "data": {
      "text/html": [
       "<div>\n",
       "<table border=\"1\" class=\"dataframe\">\n",
       "  <thead>\n",
       "    <tr style=\"text-align: right;\">\n",
       "      <th></th>\n",
       "      <th>Country Name</th>\n",
       "      <th>Country Code</th>\n",
       "      <th>Indicator Name</th>\n",
       "      <th>Indicator Code</th>\n",
       "      <th>1960</th>\n",
       "      <th>1961</th>\n",
       "      <th>1962</th>\n",
       "      <th>1963</th>\n",
       "      <th>1964</th>\n",
       "      <th>1965</th>\n",
       "      <th>...</th>\n",
       "      <th>2007</th>\n",
       "      <th>2008</th>\n",
       "      <th>2009</th>\n",
       "      <th>2010</th>\n",
       "      <th>2011</th>\n",
       "      <th>2012</th>\n",
       "      <th>2013</th>\n",
       "      <th>2014</th>\n",
       "      <th>2015</th>\n",
       "      <th>2016</th>\n",
       "    </tr>\n",
       "  </thead>\n",
       "  <tbody>\n",
       "    <tr>\n",
       "      <th>0</th>\n",
       "      <td>Arab World</td>\n",
       "      <td>ARB</td>\n",
       "      <td>2005 PPP conversion factor, GDP (LCU per inter...</td>\n",
       "      <td>PA.NUS.PPP.05</td>\n",
       "      <td>NaN</td>\n",
       "      <td>NaN</td>\n",
       "      <td>NaN</td>\n",
       "      <td>NaN</td>\n",
       "      <td>NaN</td>\n",
       "      <td>NaN</td>\n",
       "      <td>...</td>\n",
       "      <td>NaN</td>\n",
       "      <td>NaN</td>\n",
       "      <td>NaN</td>\n",
       "      <td>NaN</td>\n",
       "      <td>NaN</td>\n",
       "      <td>NaN</td>\n",
       "      <td>NaN</td>\n",
       "      <td>NaN</td>\n",
       "      <td>NaN</td>\n",
       "      <td>NaN</td>\n",
       "    </tr>\n",
       "    <tr>\n",
       "      <th>1</th>\n",
       "      <td>Arab World</td>\n",
       "      <td>ARB</td>\n",
       "      <td>2005 PPP conversion factor, private consumptio...</td>\n",
       "      <td>PA.NUS.PRVT.PP.05</td>\n",
       "      <td>NaN</td>\n",
       "      <td>NaN</td>\n",
       "      <td>NaN</td>\n",
       "      <td>NaN</td>\n",
       "      <td>NaN</td>\n",
       "      <td>NaN</td>\n",
       "      <td>...</td>\n",
       "      <td>NaN</td>\n",
       "      <td>NaN</td>\n",
       "      <td>NaN</td>\n",
       "      <td>NaN</td>\n",
       "      <td>NaN</td>\n",
       "      <td>NaN</td>\n",
       "      <td>NaN</td>\n",
       "      <td>NaN</td>\n",
       "      <td>NaN</td>\n",
       "      <td>NaN</td>\n",
       "    </tr>\n",
       "    <tr>\n",
       "      <th>2</th>\n",
       "      <td>Arab World</td>\n",
       "      <td>ARB</td>\n",
       "      <td>Access to electricity (% of population)</td>\n",
       "      <td>EG.ELC.ACCS.ZS</td>\n",
       "      <td>NaN</td>\n",
       "      <td>NaN</td>\n",
       "      <td>NaN</td>\n",
       "      <td>NaN</td>\n",
       "      <td>NaN</td>\n",
       "      <td>NaN</td>\n",
       "      <td>...</td>\n",
       "      <td>NaN</td>\n",
       "      <td>NaN</td>\n",
       "      <td>NaN</td>\n",
       "      <td>84.362348</td>\n",
       "      <td>NaN</td>\n",
       "      <td>86.280351</td>\n",
       "      <td>NaN</td>\n",
       "      <td>NaN</td>\n",
       "      <td>NaN</td>\n",
       "      <td>NaN</td>\n",
       "    </tr>\n",
       "    <tr>\n",
       "      <th>3</th>\n",
       "      <td>Arab World</td>\n",
       "      <td>ARB</td>\n",
       "      <td>Access to electricity, rural (% of rural popul...</td>\n",
       "      <td>EG.ELC.ACCS.RU.ZS</td>\n",
       "      <td>NaN</td>\n",
       "      <td>NaN</td>\n",
       "      <td>NaN</td>\n",
       "      <td>NaN</td>\n",
       "      <td>NaN</td>\n",
       "      <td>NaN</td>\n",
       "      <td>...</td>\n",
       "      <td>NaN</td>\n",
       "      <td>NaN</td>\n",
       "      <td>NaN</td>\n",
       "      <td>71.984231</td>\n",
       "      <td>NaN</td>\n",
       "      <td>73.917807</td>\n",
       "      <td>NaN</td>\n",
       "      <td>NaN</td>\n",
       "      <td>NaN</td>\n",
       "      <td>NaN</td>\n",
       "    </tr>\n",
       "    <tr>\n",
       "      <th>4</th>\n",
       "      <td>Arab World</td>\n",
       "      <td>ARB</td>\n",
       "      <td>Access to electricity, urban (% of urban popul...</td>\n",
       "      <td>EG.ELC.ACCS.UR.ZS</td>\n",
       "      <td>NaN</td>\n",
       "      <td>NaN</td>\n",
       "      <td>NaN</td>\n",
       "      <td>NaN</td>\n",
       "      <td>NaN</td>\n",
       "      <td>NaN</td>\n",
       "      <td>...</td>\n",
       "      <td>NaN</td>\n",
       "      <td>NaN</td>\n",
       "      <td>NaN</td>\n",
       "      <td>93.839661</td>\n",
       "      <td>NaN</td>\n",
       "      <td>95.156730</td>\n",
       "      <td>NaN</td>\n",
       "      <td>NaN</td>\n",
       "      <td>NaN</td>\n",
       "      <td>NaN</td>\n",
       "    </tr>\n",
       "  </tbody>\n",
       "</table>\n",
       "<p>5 rows × 61 columns</p>\n",
       "</div>"
      ],
      "text/plain": [
       "  Country Name Country Code  \\\n",
       "0   Arab World          ARB   \n",
       "1   Arab World          ARB   \n",
       "2   Arab World          ARB   \n",
       "3   Arab World          ARB   \n",
       "4   Arab World          ARB   \n",
       "\n",
       "                                      Indicator Name     Indicator Code  1960  \\\n",
       "0  2005 PPP conversion factor, GDP (LCU per inter...      PA.NUS.PPP.05   NaN   \n",
       "1  2005 PPP conversion factor, private consumptio...  PA.NUS.PRVT.PP.05   NaN   \n",
       "2            Access to electricity (% of population)     EG.ELC.ACCS.ZS   NaN   \n",
       "3  Access to electricity, rural (% of rural popul...  EG.ELC.ACCS.RU.ZS   NaN   \n",
       "4  Access to electricity, urban (% of urban popul...  EG.ELC.ACCS.UR.ZS   NaN   \n",
       "\n",
       "   1961  1962  1963  1964  1965  ...   2007  2008  2009       2010  2011  \\\n",
       "0   NaN   NaN   NaN   NaN   NaN  ...    NaN   NaN   NaN        NaN   NaN   \n",
       "1   NaN   NaN   NaN   NaN   NaN  ...    NaN   NaN   NaN        NaN   NaN   \n",
       "2   NaN   NaN   NaN   NaN   NaN  ...    NaN   NaN   NaN  84.362348   NaN   \n",
       "3   NaN   NaN   NaN   NaN   NaN  ...    NaN   NaN   NaN  71.984231   NaN   \n",
       "4   NaN   NaN   NaN   NaN   NaN  ...    NaN   NaN   NaN  93.839661   NaN   \n",
       "\n",
       "        2012  2013  2014  2015  2016  \n",
       "0        NaN   NaN   NaN   NaN   NaN  \n",
       "1        NaN   NaN   NaN   NaN   NaN  \n",
       "2  86.280351   NaN   NaN   NaN   NaN  \n",
       "3  73.917807   NaN   NaN   NaN   NaN  \n",
       "4  95.156730   NaN   NaN   NaN   NaN  \n",
       "\n",
       "[5 rows x 61 columns]"
      ]
     },
     "execution_count": 4,
     "metadata": {},
     "output_type": "execute_result"
    }
   ],
   "source": [
    "# read wdi data\n",
    "wdi = pd.read_csv(os.getenv(\"PUIDATA\") + \"/\" + filename)\n",
    "wdi.head()"
   ]
  },
  {
   "cell_type": "code",
   "execution_count": 5,
   "metadata": {
    "collapsed": false
   },
   "outputs": [
    {
     "data": {
      "text/plain": [
       "Index([u'Country Name', u'Country Code', u'Indicator Name', u'Indicator Code',\n",
       "       u'1960', u'1961', u'1962', u'1963', u'1964', u'1965', u'1966', u'1967',\n",
       "       u'1968', u'1969', u'1970', u'1971', u'1972', u'1973', u'1974', u'1975',\n",
       "       u'1976', u'1977', u'1978', u'1979', u'1980', u'1981', u'1982', u'1983',\n",
       "       u'1984', u'1985', u'1986', u'1987', u'1988', u'1989', u'1990', u'1991',\n",
       "       u'1992', u'1993', u'1994', u'1995', u'1996', u'1997', u'1998', u'1999',\n",
       "       u'2000', u'2001', u'2002', u'2003', u'2004', u'2005', u'2006', u'2007',\n",
       "       u'2008', u'2009', u'2010', u'2011', u'2012', u'2013', u'2014', u'2015',\n",
       "       u'2016'],\n",
       "      dtype='object')"
      ]
     },
     "execution_count": 5,
     "metadata": {},
     "output_type": "execute_result"
    }
   ],
   "source": [
    "# checking columns\n",
    "wdi.columns"
   ]
  },
  {
   "cell_type": "code",
   "execution_count": 7,
   "metadata": {
    "collapsed": false
   },
   "outputs": [],
   "source": [
    "# focusing on 2010 data\n",
    "wdi.drop([u'1960', u'1961', u'1962', u'1963', u'1964', u'1965', u'1966', u'1967',\n",
    "       u'1968', u'1969', u'1970', u'1971', u'1972', u'1973', u'1974', u'1975',\n",
    "       u'1976', u'1977', u'1978', u'1979', u'1980', u'1981', u'1982', u'1983',\n",
    "       u'1984', u'1985', u'1986', u'1987', u'1988', u'1989', u'1990', u'1991',\n",
    "       u'1992', u'1993', u'1994', u'1995', u'1996', u'1997', u'1998', u'1999',\n",
    "       u'2000', u'2001', u'2002', u'2003', u'2004', u'2005', u'2006', u'2007',\n",
    "       u'2008', u'2009', u'2011', u'2012', u'2013', u'2014', u'2015',\n",
    "       u'2016'], axis = 1,  inplace = True)"
   ]
  },
  {
   "cell_type": "code",
   "execution_count": 28,
   "metadata": {
    "collapsed": true
   },
   "outputs": [],
   "source": [
    "# getting the data only from the following indicators:\n",
    "# Adjusted net national income per capita (constant 2010 US$)\n",
    "# CO2 emissions (kg per PPP $ of GDP) \n",
    "# CO2 emissions (metric tons per capita)\n",
    "\n",
    "Income_pCap = wdi[wdi['Indicator Name'] == 'Adjusted net national income per capita (constant 2010 US$)']\n",
    "CO2pGDP = wdi[wdi['Indicator Name'] == 'CO2 emissions (kg per PPP $ of GDP)'] \n",
    "CO2pCap = wdi[wdi['Indicator Name'] == 'CO2 emissions (metric tons per capita)']"
   ]
  },
  {
   "cell_type": "code",
   "execution_count": 29,
   "metadata": {
    "collapsed": false,
    "scrolled": false
   },
   "outputs": [
    {
     "data": {
      "text/html": [
       "<div>\n",
       "<table border=\"1\" class=\"dataframe\">\n",
       "  <thead>\n",
       "    <tr style=\"text-align: right;\">\n",
       "      <th></th>\n",
       "      <th>Code</th>\n",
       "      <th>Income_pCap</th>\n",
       "    </tr>\n",
       "  </thead>\n",
       "  <tbody>\n",
       "    <tr>\n",
       "      <th>24</th>\n",
       "      <td>ARB</td>\n",
       "      <td>4330.612719</td>\n",
       "    </tr>\n",
       "    <tr>\n",
       "      <th>1464</th>\n",
       "      <td>CSS</td>\n",
       "      <td>6478.825475</td>\n",
       "    </tr>\n",
       "    <tr>\n",
       "      <th>2904</th>\n",
       "      <td>CEB</td>\n",
       "      <td>9982.112664</td>\n",
       "    </tr>\n",
       "    <tr>\n",
       "      <th>4344</th>\n",
       "      <td>EAR</td>\n",
       "      <td>2475.098297</td>\n",
       "    </tr>\n",
       "    <tr>\n",
       "      <th>5784</th>\n",
       "      <td>EAS</td>\n",
       "      <td>6231.343907</td>\n",
       "    </tr>\n",
       "  </tbody>\n",
       "</table>\n",
       "</div>"
      ],
      "text/plain": [
       "     Code  Income_pCap\n",
       "24    ARB  4330.612719\n",
       "1464  CSS  6478.825475\n",
       "2904  CEB  9982.112664\n",
       "4344  EAR  2475.098297\n",
       "5784  EAS  6231.343907"
      ]
     },
     "execution_count": 29,
     "metadata": {},
     "output_type": "execute_result"
    }
   ],
   "source": [
    "Income_pCap = Income_pCap.loc[:, ['Country Code', '2010']]\n",
    "Income_pCap.rename(columns = {'Country Code': 'Code', '2010':'Income_pCap'}, inplace = True)\n",
    "Income_pCap.head()"
   ]
  },
  {
   "cell_type": "code",
   "execution_count": 30,
   "metadata": {
    "collapsed": false
   },
   "outputs": [
    {
     "data": {
      "text/html": [
       "<div>\n",
       "<table border=\"1\" class=\"dataframe\">\n",
       "  <thead>\n",
       "    <tr style=\"text-align: right;\">\n",
       "      <th></th>\n",
       "      <th>Code</th>\n",
       "      <th>CO2pGDP</th>\n",
       "    </tr>\n",
       "  </thead>\n",
       "  <tbody>\n",
       "    <tr>\n",
       "      <th>207</th>\n",
       "      <td>ARB</td>\n",
       "      <td>0.328962</td>\n",
       "    </tr>\n",
       "    <tr>\n",
       "      <th>1647</th>\n",
       "      <td>CSS</td>\n",
       "      <td>0.692931</td>\n",
       "    </tr>\n",
       "    <tr>\n",
       "      <th>3087</th>\n",
       "      <td>CEB</td>\n",
       "      <td>0.333215</td>\n",
       "    </tr>\n",
       "    <tr>\n",
       "      <th>4527</th>\n",
       "      <td>EAR</td>\n",
       "      <td>0.312712</td>\n",
       "    </tr>\n",
       "    <tr>\n",
       "      <th>5967</th>\n",
       "      <td>EAS</td>\n",
       "      <td>0.493621</td>\n",
       "    </tr>\n",
       "  </tbody>\n",
       "</table>\n",
       "</div>"
      ],
      "text/plain": [
       "     Code   CO2pGDP\n",
       "207   ARB  0.328962\n",
       "1647  CSS  0.692931\n",
       "3087  CEB  0.333215\n",
       "4527  EAR  0.312712\n",
       "5967  EAS  0.493621"
      ]
     },
     "execution_count": 30,
     "metadata": {},
     "output_type": "execute_result"
    }
   ],
   "source": [
    "CO2pGDP = CO2pGDP.loc[:, ['Country Code', '2010']]\n",
    "CO2pGDP.rename(columns = {'Country Code': 'Code', '2010':'CO2pGDP'}, inplace = True)\n",
    "CO2pGDP.head()"
   ]
  },
  {
   "cell_type": "code",
   "execution_count": 32,
   "metadata": {
    "collapsed": false
   },
   "outputs": [
    {
     "data": {
      "text/html": [
       "<div>\n",
       "<table border=\"1\" class=\"dataframe\">\n",
       "  <thead>\n",
       "    <tr style=\"text-align: right;\">\n",
       "      <th></th>\n",
       "      <th>Code</th>\n",
       "      <th>CO2pCap</th>\n",
       "    </tr>\n",
       "  </thead>\n",
       "  <tbody>\n",
       "    <tr>\n",
       "      <th>209</th>\n",
       "      <td>ARB</td>\n",
       "      <td>4.672506</td>\n",
       "    </tr>\n",
       "    <tr>\n",
       "      <th>1649</th>\n",
       "      <td>CSS</td>\n",
       "      <td>9.599531</td>\n",
       "    </tr>\n",
       "    <tr>\n",
       "      <th>3089</th>\n",
       "      <td>CEB</td>\n",
       "      <td>6.822252</td>\n",
       "    </tr>\n",
       "    <tr>\n",
       "      <th>4529</th>\n",
       "      <td>EAR</td>\n",
       "      <td>2.129653</td>\n",
       "    </tr>\n",
       "    <tr>\n",
       "      <th>5969</th>\n",
       "      <td>EAS</td>\n",
       "      <td>5.701796</td>\n",
       "    </tr>\n",
       "  </tbody>\n",
       "</table>\n",
       "</div>"
      ],
      "text/plain": [
       "     Code   CO2pCap\n",
       "209   ARB  4.672506\n",
       "1649  CSS  9.599531\n",
       "3089  CEB  6.822252\n",
       "4529  EAR  2.129653\n",
       "5969  EAS  5.701796"
      ]
     },
     "execution_count": 32,
     "metadata": {},
     "output_type": "execute_result"
    }
   ],
   "source": [
    "CO2pCap = CO2pCap.loc[:, ['Country Code', '2010']]\n",
    "CO2pCap.rename(columns = {'Country Code': 'Code', '2010':'CO2pCap'}, inplace = True)\n",
    "CO2pCap.head()"
   ]
  },
  {
   "cell_type": "code",
   "execution_count": 34,
   "metadata": {
    "collapsed": false
   },
   "outputs": [
    {
     "data": {
      "text/html": [
       "<div>\n",
       "<table border=\"1\" class=\"dataframe\">\n",
       "  <thead>\n",
       "    <tr style=\"text-align: right;\">\n",
       "      <th></th>\n",
       "      <th>Code</th>\n",
       "      <th>Income_pCap</th>\n",
       "      <th>CO2pGDP</th>\n",
       "    </tr>\n",
       "  </thead>\n",
       "  <tbody>\n",
       "    <tr>\n",
       "      <th>0</th>\n",
       "      <td>ARB</td>\n",
       "      <td>4330.612719</td>\n",
       "      <td>0.328962</td>\n",
       "    </tr>\n",
       "    <tr>\n",
       "      <th>1</th>\n",
       "      <td>CSS</td>\n",
       "      <td>6478.825475</td>\n",
       "      <td>0.692931</td>\n",
       "    </tr>\n",
       "    <tr>\n",
       "      <th>2</th>\n",
       "      <td>CEB</td>\n",
       "      <td>9982.112664</td>\n",
       "      <td>0.333215</td>\n",
       "    </tr>\n",
       "    <tr>\n",
       "      <th>3</th>\n",
       "      <td>EAR</td>\n",
       "      <td>2475.098297</td>\n",
       "      <td>0.312712</td>\n",
       "    </tr>\n",
       "    <tr>\n",
       "      <th>4</th>\n",
       "      <td>EAS</td>\n",
       "      <td>6231.343907</td>\n",
       "      <td>0.493621</td>\n",
       "    </tr>\n",
       "  </tbody>\n",
       "</table>\n",
       "</div>"
      ],
      "text/plain": [
       "  Code  Income_pCap   CO2pGDP\n",
       "0  ARB  4330.612719  0.328962\n",
       "1  CSS  6478.825475  0.692931\n",
       "2  CEB  9982.112664  0.333215\n",
       "3  EAR  2475.098297  0.312712\n",
       "4  EAS  6231.343907  0.493621"
      ]
     },
     "execution_count": 34,
     "metadata": {},
     "output_type": "execute_result"
    }
   ],
   "source": [
    "# joining the data\n",
    "df = pd.merge(Income_pCap, CO2pGDP, on='Code')\n",
    "df.head()"
   ]
  },
  {
   "cell_type": "code",
   "execution_count": 35,
   "metadata": {
    "collapsed": false
   },
   "outputs": [
    {
     "data": {
      "text/html": [
       "<div>\n",
       "<table border=\"1\" class=\"dataframe\">\n",
       "  <thead>\n",
       "    <tr style=\"text-align: right;\">\n",
       "      <th></th>\n",
       "      <th>Code</th>\n",
       "      <th>Income_pCap</th>\n",
       "      <th>CO2pGDP</th>\n",
       "      <th>CO2pCap</th>\n",
       "    </tr>\n",
       "  </thead>\n",
       "  <tbody>\n",
       "    <tr>\n",
       "      <th>0</th>\n",
       "      <td>ARB</td>\n",
       "      <td>4330.612719</td>\n",
       "      <td>0.328962</td>\n",
       "      <td>4.672506</td>\n",
       "    </tr>\n",
       "    <tr>\n",
       "      <th>1</th>\n",
       "      <td>CSS</td>\n",
       "      <td>6478.825475</td>\n",
       "      <td>0.692931</td>\n",
       "      <td>9.599531</td>\n",
       "    </tr>\n",
       "    <tr>\n",
       "      <th>2</th>\n",
       "      <td>CEB</td>\n",
       "      <td>9982.112664</td>\n",
       "      <td>0.333215</td>\n",
       "      <td>6.822252</td>\n",
       "    </tr>\n",
       "    <tr>\n",
       "      <th>3</th>\n",
       "      <td>EAR</td>\n",
       "      <td>2475.098297</td>\n",
       "      <td>0.312712</td>\n",
       "      <td>2.129653</td>\n",
       "    </tr>\n",
       "    <tr>\n",
       "      <th>4</th>\n",
       "      <td>EAS</td>\n",
       "      <td>6231.343907</td>\n",
       "      <td>0.493621</td>\n",
       "      <td>5.701796</td>\n",
       "    </tr>\n",
       "  </tbody>\n",
       "</table>\n",
       "</div>"
      ],
      "text/plain": [
       "  Code  Income_pCap   CO2pGDP   CO2pCap\n",
       "0  ARB  4330.612719  0.328962  4.672506\n",
       "1  CSS  6478.825475  0.692931  9.599531\n",
       "2  CEB  9982.112664  0.333215  6.822252\n",
       "3  EAR  2475.098297  0.312712  2.129653\n",
       "4  EAS  6231.343907  0.493621  5.701796"
      ]
     },
     "execution_count": 35,
     "metadata": {},
     "output_type": "execute_result"
    }
   ],
   "source": [
    "# joining step 2\n",
    "df = pd.merge(df, CO2pCap, on='Code')\n",
    "df.head()"
   ]
  },
  {
   "cell_type": "code",
   "execution_count": 37,
   "metadata": {
    "collapsed": false
   },
   "outputs": [
    {
     "data": {
      "text/html": [
       "<div>\n",
       "<table border=\"1\" class=\"dataframe\">\n",
       "  <thead>\n",
       "    <tr style=\"text-align: right;\">\n",
       "      <th></th>\n",
       "      <th>Income_pCap</th>\n",
       "      <th>CO2pGDP</th>\n",
       "      <th>CO2pCap</th>\n",
       "    </tr>\n",
       "  </thead>\n",
       "  <tbody>\n",
       "    <tr>\n",
       "      <th>count</th>\n",
       "      <td>211.000000</td>\n",
       "      <td>211.000000</td>\n",
       "      <td>211.000000</td>\n",
       "    </tr>\n",
       "    <tr>\n",
       "      <th>mean</th>\n",
       "      <td>9223.702648</td>\n",
       "      <td>0.281122</td>\n",
       "      <td>4.674020</td>\n",
       "    </tr>\n",
       "    <tr>\n",
       "      <th>std</th>\n",
       "      <td>13130.844961</td>\n",
       "      <td>0.186269</td>\n",
       "      <td>5.900453</td>\n",
       "    </tr>\n",
       "    <tr>\n",
       "      <th>min</th>\n",
       "      <td>130.954724</td>\n",
       "      <td>0.023060</td>\n",
       "      <td>0.022480</td>\n",
       "    </tr>\n",
       "    <tr>\n",
       "      <th>25%</th>\n",
       "      <td>1099.461273</td>\n",
       "      <td>0.169322</td>\n",
       "      <td>0.735878</td>\n",
       "    </tr>\n",
       "    <tr>\n",
       "      <th>50%</th>\n",
       "      <td>3490.984155</td>\n",
       "      <td>0.243637</td>\n",
       "      <td>2.622539</td>\n",
       "    </tr>\n",
       "    <tr>\n",
       "      <th>75%</th>\n",
       "      <td>9276.239300</td>\n",
       "      <td>0.342902</td>\n",
       "      <td>6.825787</td>\n",
       "    </tr>\n",
       "    <tr>\n",
       "      <th>max</th>\n",
       "      <td>65441.570736</td>\n",
       "      <td>1.230855</td>\n",
       "      <td>41.131162</td>\n",
       "    </tr>\n",
       "  </tbody>\n",
       "</table>\n",
       "</div>"
      ],
      "text/plain": [
       "        Income_pCap     CO2pGDP     CO2pCap\n",
       "count    211.000000  211.000000  211.000000\n",
       "mean    9223.702648    0.281122    4.674020\n",
       "std    13130.844961    0.186269    5.900453\n",
       "min      130.954724    0.023060    0.022480\n",
       "25%     1099.461273    0.169322    0.735878\n",
       "50%     3490.984155    0.243637    2.622539\n",
       "75%     9276.239300    0.342902    6.825787\n",
       "max    65441.570736    1.230855   41.131162"
      ]
     },
     "execution_count": 37,
     "metadata": {},
     "output_type": "execute_result"
    }
   ],
   "source": [
    "df.dropna(inplace = True)\n",
    "df.describe()"
   ]
  },
  {
   "cell_type": "code",
   "execution_count": 109,
   "metadata": {
    "collapsed": false
   },
   "outputs": [
    {
     "data": {
      "image/png": "[encoded data removed]",
      "text/plain": [
       "<matplotlib.figure.Figure at 0x7ffb93174a10>"
      ]
     },
     "metadata": {},
     "output_type": "display_data"
    }
   ],
   "source": [
    "# making the plot\n",
    "\n",
    "fig, ax1 = pl.subplots(figsize = (10, 8))\n",
    "\n",
    "ax2 = ax1.twinx()\n",
    "\n",
    "p1 = ax1.plot(df.Income_pCap, df.CO2pCap, 'ro', ms=7, alpha=0.8)\n",
    "ax1.set_yscale('log')\n",
    "ax1.set_xscale('log')\n",
    "ax1.set_xlabel('Income per capita [US$]', fontsize = 14)\n",
    "ax1.set_ylabel('CO2 emissions [metric tons per capita]', color  = 'r', fontsize = 14)\n",
    "\n",
    "\n",
    "p2 = ax2.plot(df.Income_pCap, df.CO2pGDP, 'bD', ms=6, alpha=0.8)\n",
    "ax2.set_yscale('log')\n",
    "ax2.set_xscale('log')\n",
    "ax2.set_ylabel('CO2 emitted per GDP [kg / PPP US$]', color = 'b', fontsize = 14)\n",
    "\n",
    "p = p1+p2\n",
    "plabs = ['CO2 per Capita', 'CO2 per GDP']\n",
    "pl.legend(p, plabs, loc=2)\n",
    "\n",
    "pl.title('Decoupling development from carbon emissions\\n', fontsize = 18)\n",
    "\n",
    "pl.show()\n",
    "\n"
   ]
  },
  {
   "cell_type": "markdown",
   "metadata": {},
   "source": [
    "### *Figure 1*: Observing the relation between carbon emissions and income per capita it is clear the positive correlation between both. On the other hand, for the CO2 emissions per GDP trend, it is possible to observe a positive correlation up until an income per capita of about 4,000 to 10,000 US dollars, but about that treshold, there is no more correlation, or even a slightly negative correlation. The result indicates that after a certain stage  of technological development (high enough income per capita), the developed countries have decoupled their developoment (represented by the GDP increase) from their CO2 emissions.  "
   ]
  }
 ],
 "metadata": {
  "kernelspec": {
   "display_name": "PUI2016_Python2",
   "language": "python",
   "name": "pui2016_python2"
  },
  "language_info": {
   "codemirror_mode": {
    "name": "ipython",
    "version": 2
   },
   "file_extension": ".py",
   "mimetype": "text/x-python",
   "name": "python",
   "nbconvert_exporter": "python",
   "pygments_lexer": "ipython2",
   "version": "2.7.12"
  }
 },
 "nbformat": 4,
 "nbformat_minor": 0
}
