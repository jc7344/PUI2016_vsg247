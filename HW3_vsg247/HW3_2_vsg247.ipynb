{
 "cells": [
  {
   "cell_type": "markdown",
   "metadata": {},
   "source": [
    "# HW3 Assignment 2"
   ]
  },
  {
   "cell_type": "code",
   "execution_count": 12,
   "metadata": {
    "collapsed": false
   },
   "outputs": [
    {
     "name": "stdout",
     "output_type": "stream",
     "text": [
      "Populating the interactive namespace from numpy and matplotlib\n"
     ]
    },
    {
     "data": {
      "text/plain": [
       "'/home/cusp/vsg247/PUIdata'"
      ]
     },
     "execution_count": 12,
     "metadata": {},
     "output_type": "execute_result"
    }
   ],
   "source": [
    "from __future__  import print_function, division\n",
    "import pylab as pl\n",
    "import pandas as pd\n",
    "import numpy as np\n",
    "import os\n",
    "import scipy.stats as stats\n",
    "\n",
    "%pylab inline\n",
    "\n",
    "\n",
    "if os.getenv ('PUI2016') is None:\n",
    "    print (\"Must set env variable PUI2016\")\n",
    "if os.getenv ('PUIDATA') is None:\n",
    "    print (\"Must set env variable PUIDATA\")\n",
    "\n",
    "\n",
    "os.getenv ('PUIDATA')"
   ]
  },
  {
   "cell_type": "code",
   "execution_count": 2,
   "metadata": {
    "collapsed": false
   },
   "outputs": [],
   "source": [
    "### A function to download the data in case it's not there yet. \n",
    "\n",
    "def getCitiBikeCSV(datestring):\n",
    "    '''\n",
    "    Function that looks for a csv file with citibike data corresponding to the datestring in the PUIdata directory.\n",
    "    If csv file is not there, looks for the corresponding zip file. If the zip file is there unzip it.\n",
    "    If the zip file is not there either, the function downloads it from the citibike website and then unzip it. \n",
    "    '''\n",
    "    \n",
    "    print('Looking for the citibike data for the month ' + datestring + \"...\")\n",
    "    \n",
    "    ### First check if the csv file is not already at the directory\n",
    "    if os.path.isfile(os.getenv(\"PUIDATA\") + \"/\" + datestring + \"-citibike-tripdata.csv\"):\n",
    "        print (\"CSV File was already at the PUIdata directory.\")\n",
    "        \n",
    "    # If the CSV is not there, now check if the ZIP File is already there.\n",
    "    # If the ZIP File is there, unzip it and move the unzipped CSV to the PUIdata directory\n",
    "    elif os.path.isfile(os.getenv(\"PUIDATA\") + \"/\" + datestring + \"-citibike-tripdata.zip\"):\n",
    "            print('ZIP File was already at the PUIdata directory.')\n",
    "            \n",
    "            # unzip the csv \n",
    "            os.system(\"unzip \" + os.getenv(\"PUIDATA\") + \"/\" + datestring + \"-citibike-tripdata.zip\")\n",
    "            print('CSV File unzipped.')\n",
    "            \n",
    "            # Move the CSV to the PUIdata directory\n",
    "            os.system(\"mv \" + datestring + \"-citibike-tripdata.csv \" + os.getenv(\"PUIDATA\"))\n",
    "    \n",
    "    else :\n",
    "        # Download the Zip File; move it to the PUIdata directory; unzip it; move the csv to the PUIdata directory.\n",
    "        print (\"Downloading\", datestring)\n",
    "        \n",
    "        # Downloading the ZIP File\n",
    "        os.system(\"curl -O https://s3.amazonaws.com/tripdata/\" + datestring + \"-citibike-tripdata.zip\")\n",
    "        print (\"ZIP File downloaded.\")\n",
    "        \n",
    "        # Moving it to the PUIdata directory\n",
    "        os.system(\"mv \" + datestring + \"-citibike-tripdata.zip \" + os.getenv(\"PUIDATA\"))\n",
    "        \n",
    "        # unzip the csv \n",
    "        os.system(\"unzip \" + os.getenv(\"PUIDATA\") + \"/\" + datestring + \"-citibike-tripdata.zip\")\n",
    "        \n",
    "        # and move it to the PUIdata directory\n",
    "        os.system(\"mv \" + datestring + \"-citibike-tripdata.csv \" + os.getenv(\"PUIDATA\"))\n",
    "           \n",
    "    ### One final check:\n",
    "    if not os.path.isfile(os.getenv(\"PUIDATA\") + \"/\" + datestring + \"-citibike-tripdata.csv\"):\n",
    "        print (\"WARNING!!! something is wrong: the file is not there!\")\n",
    "\n",
    "    else:\n",
    "        print (\"CSV File in place, you can continue.\\n\")"
   ]
  },
  {
   "cell_type": "markdown",
   "metadata": {},
   "source": [
    "## IDEA\n",
    "\n",
    "The average age of women who bike regularly (subscribers) is lower than the average age of men who bike regularly."
   ]
  },
  {
   "cell_type": "markdown",
   "metadata": {},
   "source": [
    "## Null Hypothesis:\n",
    "\n",
    "##### The average age of women who bike regularly (subscribers) is the same or higher than the average age of men who bike regularly (subscribers). \n",
    "\n",
    "$H_0 : AGE_{W_{subs}} >= AGE_{M_{subs}}$\n",
    "\n",
    "## Alternative Hypothesis:\n",
    "\n",
    "##### The average age of women who bike regularly (subscribers) is the smaller than the average age of men who bike regularly (subscribers). \n",
    "\n",
    "$H_a : AGE_{W_{subs}} < AGE_{M_{subs}}$\n",
    "  \n",
    "### I will use a significance level of $\\alpha=0.05$    "
   ]
  },
  {
   "cell_type": "code",
   "execution_count": 3,
   "metadata": {
    "collapsed": false,
    "scrolled": false
   },
   "outputs": [
    {
     "name": "stdout",
     "output_type": "stream",
     "text": [
      "Looking for the citibike data for the month 201506...\n",
      "CSV File was already at the PUIdata directory.\n",
      "CSV File in place, you can continue.\n",
      "\n",
      "Looking for the citibike data for the month 201507...\n",
      "CSV File was already at the PUIdata directory.\n",
      "CSV File in place, you can continue.\n",
      "\n",
      "Looking for the citibike data for the month 201508...\n",
      "CSV File was already at the PUIdata directory.\n",
      "CSV File in place, you can continue.\n",
      "\n"
     ]
    }
   ],
   "source": [
    "# getting data for the summer of 2015, from June until August.\n",
    "summer2015 = ['201506', '201507', '201508']\n",
    "for month in summer2015:\n",
    "    getCitiBikeCSV(month)    "
   ]
  },
  {
   "cell_type": "code",
   "execution_count": 4,
   "metadata": {
    "collapsed": false,
    "scrolled": true
   },
   "outputs": [
    {
     "data": {
      "text/html": [
       "<div>\n",
       "<table border=\"1\" class=\"dataframe\">\n",
       "  <thead>\n",
       "    <tr style=\"text-align: right;\">\n",
       "      <th></th>\n",
       "      <th>tripduration</th>\n",
       "      <th>starttime</th>\n",
       "      <th>stoptime</th>\n",
       "      <th>start station id</th>\n",
       "      <th>start station name</th>\n",
       "      <th>start station latitude</th>\n",
       "      <th>start station longitude</th>\n",
       "      <th>end station id</th>\n",
       "      <th>end station name</th>\n",
       "      <th>end station latitude</th>\n",
       "      <th>end station longitude</th>\n",
       "      <th>bikeid</th>\n",
       "      <th>usertype</th>\n",
       "      <th>birth year</th>\n",
       "      <th>gender</th>\n",
       "    </tr>\n",
       "  </thead>\n",
       "  <tbody>\n",
       "    <tr>\n",
       "      <th>0</th>\n",
       "      <td>1338</td>\n",
       "      <td>6/1/2015 0:00</td>\n",
       "      <td>6/1/2015 0:22</td>\n",
       "      <td>128</td>\n",
       "      <td>MacDougal St &amp; Prince St</td>\n",
       "      <td>40.727103</td>\n",
       "      <td>-74.002971</td>\n",
       "      <td>2021</td>\n",
       "      <td>W 45 St &amp; 8 Ave</td>\n",
       "      <td>40.759291</td>\n",
       "      <td>-73.988597</td>\n",
       "      <td>20721</td>\n",
       "      <td>Subscriber</td>\n",
       "      <td>1984.0</td>\n",
       "      <td>1</td>\n",
       "    </tr>\n",
       "    <tr>\n",
       "      <th>1</th>\n",
       "      <td>290</td>\n",
       "      <td>6/1/2015 0:00</td>\n",
       "      <td>6/1/2015 0:05</td>\n",
       "      <td>438</td>\n",
       "      <td>St Marks Pl &amp; 1 Ave</td>\n",
       "      <td>40.727791</td>\n",
       "      <td>-73.985649</td>\n",
       "      <td>312</td>\n",
       "      <td>Allen St &amp; E Houston St</td>\n",
       "      <td>40.722055</td>\n",
       "      <td>-73.989111</td>\n",
       "      <td>21606</td>\n",
       "      <td>Subscriber</td>\n",
       "      <td>1997.0</td>\n",
       "      <td>1</td>\n",
       "    </tr>\n",
       "    <tr>\n",
       "      <th>2</th>\n",
       "      <td>634</td>\n",
       "      <td>6/1/2015 0:01</td>\n",
       "      <td>6/1/2015 0:11</td>\n",
       "      <td>383</td>\n",
       "      <td>Greenwich Ave &amp; Charles St</td>\n",
       "      <td>40.735238</td>\n",
       "      <td>-74.000271</td>\n",
       "      <td>388</td>\n",
       "      <td>W 26 St &amp; 10 Ave</td>\n",
       "      <td>40.749718</td>\n",
       "      <td>-74.002950</td>\n",
       "      <td>16595</td>\n",
       "      <td>Subscriber</td>\n",
       "      <td>1993.0</td>\n",
       "      <td>1</td>\n",
       "    </tr>\n",
       "    <tr>\n",
       "      <th>3</th>\n",
       "      <td>159</td>\n",
       "      <td>6/1/2015 0:01</td>\n",
       "      <td>6/1/2015 0:04</td>\n",
       "      <td>361</td>\n",
       "      <td>Allen St &amp; Hester St</td>\n",
       "      <td>40.716059</td>\n",
       "      <td>-73.991908</td>\n",
       "      <td>531</td>\n",
       "      <td>Forsyth St &amp; Broome St</td>\n",
       "      <td>40.718939</td>\n",
       "      <td>-73.992663</td>\n",
       "      <td>16949</td>\n",
       "      <td>Subscriber</td>\n",
       "      <td>1981.0</td>\n",
       "      <td>1</td>\n",
       "    </tr>\n",
       "    <tr>\n",
       "      <th>4</th>\n",
       "      <td>1233</td>\n",
       "      <td>6/1/2015 0:02</td>\n",
       "      <td>6/1/2015 0:22</td>\n",
       "      <td>382</td>\n",
       "      <td>University Pl &amp; E 14 St</td>\n",
       "      <td>40.734927</td>\n",
       "      <td>-73.992005</td>\n",
       "      <td>532</td>\n",
       "      <td>S 5 Pl &amp; S 4 St</td>\n",
       "      <td>40.710451</td>\n",
       "      <td>-73.960876</td>\n",
       "      <td>17028</td>\n",
       "      <td>Customer</td>\n",
       "      <td>NaN</td>\n",
       "      <td>0</td>\n",
       "    </tr>\n",
       "  </tbody>\n",
       "</table>\n",
       "</div>"
      ],
      "text/plain": [
       "   tripduration      starttime       stoptime  start station id  \\\n",
       "0          1338  6/1/2015 0:00  6/1/2015 0:22               128   \n",
       "1           290  6/1/2015 0:00  6/1/2015 0:05               438   \n",
       "2           634  6/1/2015 0:01  6/1/2015 0:11               383   \n",
       "3           159  6/1/2015 0:01  6/1/2015 0:04               361   \n",
       "4          1233  6/1/2015 0:02  6/1/2015 0:22               382   \n",
       "\n",
       "           start station name  start station latitude  \\\n",
       "0    MacDougal St & Prince St               40.727103   \n",
       "1         St Marks Pl & 1 Ave               40.727791   \n",
       "2  Greenwich Ave & Charles St               40.735238   \n",
       "3        Allen St & Hester St               40.716059   \n",
       "4     University Pl & E 14 St               40.734927   \n",
       "\n",
       "   start station longitude  end station id         end station name  \\\n",
       "0               -74.002971            2021          W 45 St & 8 Ave   \n",
       "1               -73.985649             312  Allen St & E Houston St   \n",
       "2               -74.000271             388         W 26 St & 10 Ave   \n",
       "3               -73.991908             531   Forsyth St & Broome St   \n",
       "4               -73.992005             532          S 5 Pl & S 4 St   \n",
       "\n",
       "   end station latitude  end station longitude  bikeid    usertype  \\\n",
       "0             40.759291             -73.988597   20721  Subscriber   \n",
       "1             40.722055             -73.989111   21606  Subscriber   \n",
       "2             40.749718             -74.002950   16595  Subscriber   \n",
       "3             40.718939             -73.992663   16949  Subscriber   \n",
       "4             40.710451             -73.960876   17028    Customer   \n",
       "\n",
       "   birth year  gender  \n",
       "0      1984.0       1  \n",
       "1      1997.0       1  \n",
       "2      1993.0       1  \n",
       "3      1981.0       1  \n",
       "4         NaN       0  "
      ]
     },
     "execution_count": 4,
     "metadata": {},
     "output_type": "execute_result"
    }
   ],
   "source": [
    "# exemple of the raw data of one of the analyzed months\n",
    "\n",
    "df_jun=pd.read_csv(os.getenv(\"PUIDATA\") + \"/\" + '201506' + '-citibike-tripdata.csv')\n",
    "df_jun.head()"
   ]
  },
  {
   "cell_type": "code",
   "execution_count": 5,
   "metadata": {
    "collapsed": false
   },
   "outputs": [],
   "source": [
    "# getting and putting together the data from the whole summer\n",
    "\n",
    "for month in summer2015:\n",
    "    #read the csv corresponding to the month\n",
    "    df_aux = pd.read_csv(os.getenv(\"PUIDATA\") + \"/\" + month + '-citibike-tripdata.csv')\n",
    "    \n",
    "    # drops all columns but 'usertype', 'birth year' and 'gender'\n",
    "    df_aux.drop([u'tripduration', u'starttime', u'stoptime', u'start station id',\n",
    "       u'start station name', u'start station latitude',\n",
    "       u'start station longitude', u'end station id', u'end station name',\n",
    "       u'end station latitude', u'end station longitude', u'bikeid'], axis=1, inplace=True)\n",
    "    \n",
    "    # drops rows with missing values\n",
    "    df_aux.dropna(inplace = True)\n",
    "    \n",
    "    # if month is the first of the period, creates the final data frame\n",
    "    # if the final was already created, adds the rows from the next moth to it. \n",
    "    if month == summer2015[0]:\n",
    "        df = df_aux\n",
    "    else:\n",
    "        df = pd.concat([df, df_aux])\n",
    "        "
   ]
  },
  {
   "cell_type": "code",
   "execution_count": 6,
   "metadata": {
    "collapsed": false
   },
   "outputs": [
    {
     "data": {
      "text/html": [
       "<div>\n",
       "<table border=\"1\" class=\"dataframe\">\n",
       "  <thead>\n",
       "    <tr style=\"text-align: right;\">\n",
       "      <th></th>\n",
       "      <th>usertype</th>\n",
       "      <th>birth year</th>\n",
       "      <th>gender</th>\n",
       "    </tr>\n",
       "  </thead>\n",
       "  <tbody>\n",
       "    <tr>\n",
       "      <th>0</th>\n",
       "      <td>Subscriber</td>\n",
       "      <td>1984.0</td>\n",
       "      <td>1</td>\n",
       "    </tr>\n",
       "    <tr>\n",
       "      <th>1</th>\n",
       "      <td>Subscriber</td>\n",
       "      <td>1997.0</td>\n",
       "      <td>1</td>\n",
       "    </tr>\n",
       "    <tr>\n",
       "      <th>2</th>\n",
       "      <td>Subscriber</td>\n",
       "      <td>1993.0</td>\n",
       "      <td>1</td>\n",
       "    </tr>\n",
       "    <tr>\n",
       "      <th>3</th>\n",
       "      <td>Subscriber</td>\n",
       "      <td>1981.0</td>\n",
       "      <td>1</td>\n",
       "    </tr>\n",
       "    <tr>\n",
       "      <th>5</th>\n",
       "      <td>Subscriber</td>\n",
       "      <td>1976.0</td>\n",
       "      <td>1</td>\n",
       "    </tr>\n",
       "  </tbody>\n",
       "</table>\n",
       "</div>"
      ],
      "text/plain": [
       "     usertype  birth year  gender\n",
       "0  Subscriber      1984.0       1\n",
       "1  Subscriber      1997.0       1\n",
       "2  Subscriber      1993.0       1\n",
       "3  Subscriber      1981.0       1\n",
       "5  Subscriber      1976.0       1"
      ]
     },
     "execution_count": 6,
     "metadata": {},
     "output_type": "execute_result"
    }
   ],
   "source": [
    "# printing the reducted DF\n",
    "df.head()"
   ]
  },
  {
   "cell_type": "code",
   "execution_count": 7,
   "metadata": {
    "collapsed": false,
    "scrolled": true
   },
   "outputs": [
    {
     "data": {
      "text/html": [
       "<div>\n",
       "<table border=\"1\" class=\"dataframe\">\n",
       "  <thead>\n",
       "    <tr style=\"text-align: right;\">\n",
       "      <th></th>\n",
       "      <th>usertype</th>\n",
       "      <th>birth year</th>\n",
       "      <th>gender</th>\n",
       "      <th>age</th>\n",
       "    </tr>\n",
       "  </thead>\n",
       "  <tbody>\n",
       "    <tr>\n",
       "      <th>0</th>\n",
       "      <td>Subscriber</td>\n",
       "      <td>1984.0</td>\n",
       "      <td>1</td>\n",
       "      <td>32</td>\n",
       "    </tr>\n",
       "    <tr>\n",
       "      <th>1</th>\n",
       "      <td>Subscriber</td>\n",
       "      <td>1997.0</td>\n",
       "      <td>1</td>\n",
       "      <td>19</td>\n",
       "    </tr>\n",
       "    <tr>\n",
       "      <th>2</th>\n",
       "      <td>Subscriber</td>\n",
       "      <td>1993.0</td>\n",
       "      <td>1</td>\n",
       "      <td>23</td>\n",
       "    </tr>\n",
       "    <tr>\n",
       "      <th>3</th>\n",
       "      <td>Subscriber</td>\n",
       "      <td>1981.0</td>\n",
       "      <td>1</td>\n",
       "      <td>35</td>\n",
       "    </tr>\n",
       "    <tr>\n",
       "      <th>5</th>\n",
       "      <td>Subscriber</td>\n",
       "      <td>1976.0</td>\n",
       "      <td>1</td>\n",
       "      <td>40</td>\n",
       "    </tr>\n",
       "  </tbody>\n",
       "</table>\n",
       "</div>"
      ],
      "text/plain": [
       "     usertype  birth year  gender  age\n",
       "0  Subscriber      1984.0       1   32\n",
       "1  Subscriber      1997.0       1   19\n",
       "2  Subscriber      1993.0       1   23\n",
       "3  Subscriber      1981.0       1   35\n",
       "5  Subscriber      1976.0       1   40"
      ]
     },
     "execution_count": 7,
     "metadata": {},
     "output_type": "execute_result"
    }
   ],
   "source": [
    "# Adding column 'age' to the data frame, calculating it from the birth year.   \n",
    "df['age'] = (2016 - df['birth year']).astype(int)\n",
    "df.head()"
   ]
  },
  {
   "cell_type": "code",
   "execution_count": 8,
   "metadata": {
    "collapsed": false
   },
   "outputs": [
    {
     "data": {
      "text/plain": [
       "array(['Subscriber'], dtype=object)"
      ]
     },
     "execution_count": 8,
     "metadata": {},
     "output_type": "execute_result"
    }
   ],
   "source": [
    "# while cleaning the data I noticed that the birth date is available only for subscribers. \n",
    "# therefore, when I dropped the rows with missing values, all the rows usertype = 'Customer' were also dropped. \n",
    "df.usertype.unique()"
   ]
  },
  {
   "cell_type": "code",
   "execution_count": 30,
   "metadata": {
    "collapsed": false
   },
   "outputs": [
    {
     "data": {
      "text/html": [
       "<div>\n",
       "<table border=\"1\" class=\"dataframe\">\n",
       "  <thead>\n",
       "    <tr style=\"text-align: right;\">\n",
       "      <th></th>\n",
       "      <th>birth year</th>\n",
       "      <th>gender</th>\n",
       "      <th>age</th>\n",
       "    </tr>\n",
       "  </thead>\n",
       "  <tbody>\n",
       "    <tr>\n",
       "      <th>count</th>\n",
       "      <td>2.673215e+06</td>\n",
       "      <td>2.673215e+06</td>\n",
       "      <td>2.673215e+06</td>\n",
       "    </tr>\n",
       "    <tr>\n",
       "      <th>mean</th>\n",
       "      <td>1.976736e+03</td>\n",
       "      <td>1.239008e+00</td>\n",
       "      <td>3.926416e+01</td>\n",
       "    </tr>\n",
       "    <tr>\n",
       "      <th>std</th>\n",
       "      <td>1.131737e+01</td>\n",
       "      <td>4.288685e-01</td>\n",
       "      <td>1.131737e+01</td>\n",
       "    </tr>\n",
       "    <tr>\n",
       "      <th>min</th>\n",
       "      <td>1.921000e+03</td>\n",
       "      <td>0.000000e+00</td>\n",
       "      <td>1.700000e+01</td>\n",
       "    </tr>\n",
       "    <tr>\n",
       "      <th>25%</th>\n",
       "      <td>1.969000e+03</td>\n",
       "      <td>1.000000e+00</td>\n",
       "      <td>3.000000e+01</td>\n",
       "    </tr>\n",
       "    <tr>\n",
       "      <th>50%</th>\n",
       "      <td>1.979000e+03</td>\n",
       "      <td>1.000000e+00</td>\n",
       "      <td>3.700000e+01</td>\n",
       "    </tr>\n",
       "    <tr>\n",
       "      <th>75%</th>\n",
       "      <td>1.986000e+03</td>\n",
       "      <td>1.000000e+00</td>\n",
       "      <td>4.700000e+01</td>\n",
       "    </tr>\n",
       "    <tr>\n",
       "      <th>max</th>\n",
       "      <td>1.999000e+03</td>\n",
       "      <td>2.000000e+00</td>\n",
       "      <td>9.500000e+01</td>\n",
       "    </tr>\n",
       "  </tbody>\n",
       "</table>\n",
       "</div>"
      ],
      "text/plain": [
       "         birth year        gender           age\n",
       "count  2.673215e+06  2.673215e+06  2.673215e+06\n",
       "mean   1.976736e+03  1.239008e+00  3.926416e+01\n",
       "std    1.131737e+01  4.288685e-01  1.131737e+01\n",
       "min    1.921000e+03  0.000000e+00  1.700000e+01\n",
       "25%    1.969000e+03  1.000000e+00  3.000000e+01\n",
       "50%    1.979000e+03  1.000000e+00  3.700000e+01\n",
       "75%    1.986000e+03  1.000000e+00  4.700000e+01\n",
       "max    1.999000e+03  2.000000e+00  9.500000e+01"
      ]
     },
     "execution_count": 30,
     "metadata": {},
     "output_type": "execute_result"
    }
   ],
   "source": [
    "df = df[df['age'] <= 95]\n",
    "df.describe()"
   ]
  },
  {
   "cell_type": "code",
   "execution_count": 31,
   "metadata": {
    "collapsed": false,
    "scrolled": true
   },
   "outputs": [
    {
     "data": {
      "image/png": "[encoded data removed]",
      "text/plain": [
       "<matplotlib.figure.Figure at 0x7fae8e4ae550>"
      ]
     },
     "metadata": {},
     "output_type": "display_data"
    }
   ],
   "source": [
    "fig = pl.figure(figsize=(15,5))\n",
    "\n",
    "pl.subplot(121)\n",
    "pl.hist(df['age'][df['gender']==1], bins = 30)\n",
    "pl.xlabel('Age (years)')\n",
    "pl.ylabel('counts')\n",
    "pl.title('Age of male subscribers')\n",
    "\n",
    "pl.subplot(122)\n",
    "pl.hist(df['age'][df['gender']==2], bins = 30)\n",
    "pl.xlabel('Age (years)')\n",
    "pl.ylabel('counts')\n",
    "pl.title('Age of female subscribers')\n",
    "\n",
    "pl.show()\n",
    "\n"
   ]
  },
  {
   "cell_type": "markdown",
   "metadata": {},
   "source": [
    "#### Figure 1: Age distribution of the male and female subscribers of citibike, from the count of bike trips in the period of June to August 2015. "
   ]
  },
  {
   "cell_type": "code",
   "execution_count": 32,
   "metadata": {
    "collapsed": false
   },
   "outputs": [
    {
     "name": "stdout",
     "output_type": "stream",
     "text": [
      "Age_m: 39.7 std_m: 11.3\n",
      "Age_f: 37.9 std_f: 11.1\n"
     ]
    }
   ],
   "source": [
    "# calculating the means and std deviation\n",
    "age_m = df['age'][df['gender']==1].mean()\n",
    "age_f = df['age'][df['gender']==2].mean()\n",
    "\n",
    "std_age_m = df['age'][df['gender']==1].std()\n",
    "std_age_f = df['age'][df['gender']==2].std()\n",
    "\n",
    "print(\"Age_m: {0:.1f} std_m: {1:.1f}\".format(age_m, std_age_m))\n",
    "print(\"Age_f: {0:.1f} std_f: {1:.1f}\".format(age_f, std_age_f))"
   ]
  },
  {
   "cell_type": "markdown",
   "metadata": {},
   "source": [
    "#### Testing the Null Hypothesis with a z-test"
   ]
  },
  {
   "cell_type": "code",
   "execution_count": 33,
   "metadata": {
    "collapsed": false
   },
   "outputs": [
    {
     "name": "stdout",
     "output_type": "stream",
     "text": [
      "z-score:   0.6800\n",
      "p-value:  0.2484\n"
     ]
    }
   ],
   "source": [
    "#code adapted from : http://stats.stackexchange.com/questions/124096/two-samples-z-test-in-python\n",
    "def twoSampZ(X1, X2, mudiff, sd1, sd2, n1, n2):\n",
    "    pooledSE = np.sqrt(sd1**2/n1 + sd2**2/n2)\n",
    "    z = ((X1 - X2) - mudiff)/pooledSE\n",
    "    pval = (1 - stats.norm.cdf(np.abs(z))) # one-tailed test doesn't need the multiplication by 2\n",
    "    return np.round(z, 3), np.round(pval, 4)\n",
    "\n",
    "zscore, pval = twoSampZ(age_m, age_f, 0,std_age_m, std_age_f,df['age'][df['gender']==1].mean(), df['age'][df['gender']==2].mean())\n",
    "\n",
    "print('z-score:   {0:.4f}'.format(zscore))\n",
    "print('p-value:  {0:.4f}'.format(pval))"
   ]
  },
  {
   "cell_type": "markdown",
   "metadata": {},
   "source": [
    "Since the p-value is higher than the significance level, the null hypothesis can not be rejected and the conclusion is that there is no statistically significant difference between the mean age of female citibike subscribers and male citibike subscribers. Therefore we can not conclude that the avearage age of female soubscribers is lower than the average age of male subscribers. "
   ]
  }
 ],
 "metadata": {
  "kernelspec": {
   "display_name": "PUI2016_Python2",
   "language": "python",
   "name": "pui2016_python2"
  },
  "language_info": {
   "codemirror_mode": {
    "name": "ipython",
    "version": 2
   },
   "file_extension": ".py",
   "mimetype": "text/x-python",
   "name": "python",
   "nbconvert_exporter": "python",
   "pygments_lexer": "ipython2",
   "version": "2.7.12"
  }
 },
 "nbformat": 4,
 "nbformat_minor": 0
}
